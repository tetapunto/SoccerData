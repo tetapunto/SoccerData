{
 "cells": [
  {
   "cell_type": "code",
   "execution_count": 117,
   "metadata": {},
   "outputs": [],
   "source": [
    "import pandas as pd\n",
    "import numpy as np\n",
    "import matplotlib.pyplot as plt\n",
    "import seaborn as sns\n",
    "\n",
    "\n",
    "input_folder = 'C:/Users/Davide/workspace/SoccerData/Input/'\n",
    "output_folder = 'C:/Users/Davide/workspace/SoccerData/Output/'"
   ]
  },
  {
   "cell_type": "code",
   "execution_count": 118,
   "metadata": {},
   "outputs": [],
   "source": [
    "import os\n",
    "\n",
    "d = {}\n",
    "\n",
    "for filename in os.listdir(output_folder):\n",
    "    if filename[0]!='.':\n",
    "        df =  pd.read_csv(output_folder + filename)\n",
    "        if 'Unnamed: 0' in df.columns:\n",
    "            df.drop('Unnamed: 0',1,inplace = True)\n",
    "        if '0' in df.columns:\n",
    "            df.rename(columns={'0':'playerId','Unnamed: 1':filename[:-4]},inplace = True)\n",
    "            \n",
    "        d[filename[:-4]] = df\n",
    "            "
   ]
  },
  {
   "cell_type": "code",
   "execution_count": 119,
   "metadata": {},
   "outputs": [],
   "source": [
    "from functools import reduce\n",
    "\n",
    "double_key_list = ['foul','angles','accurate_pass','accurate_shot','duel','fk_corner','fk_cross','fk_shot',\n",
    "                   'interception','key_pass','offside','pass_cross','pass_high','pass_simple','pass_smart',\n",
    "                   'pos_hei_wei','rate_event_time','shot']\n",
    "dict_double_key = { k: d[k] for k in double_key_list}\n",
    "\n",
    "\n",
    "df1 = reduce(lambda x, y: pd.merge(x, y, on = ['matchId','playerId'], how = 'outer'), list(dict_double_key.values()))#.fillna(0.)\n",
    "\n",
    "\n",
    "single_key_list = ['ambid_P','assist_P','goal_P','yellow_card_P']\n",
    "dict_single_key = { k: d[k] for k in single_key_list}\n",
    "\n",
    "\n",
    "df2 = reduce(lambda x, y: pd.merge(x, y, on = 'playerId', how = 'outer'), list(dict_single_key.values()))#.fillna(0.)"
   ]
  },
  {
   "cell_type": "code",
   "execution_count": 120,
   "metadata": {},
   "outputs": [],
   "source": [
    "df = df1.merge(df2, on='playerId', how = 'outer')\n",
    "\n",
    "df = df[df.playerId !=0]\n",
    "#df= df[df.height.notnull()]"
   ]
  },
  {
   "cell_type": "code",
   "execution_count": 121,
   "metadata": {},
   "outputs": [],
   "source": [
    "df.to_csv('full_match.csv', index=False)"
   ]
  },
  {
   "cell_type": "code",
   "execution_count": 105,
   "metadata": {},
   "outputs": [
    {
     "data": {
      "text/html": [
       "<div>\n",
       "<style scoped>\n",
       "    .dataframe tbody tr th:only-of-type {\n",
       "        vertical-align: middle;\n",
       "    }\n",
       "\n",
       "    .dataframe tbody tr th {\n",
       "        vertical-align: top;\n",
       "    }\n",
       "\n",
       "    .dataframe thead th {\n",
       "        text-align: right;\n",
       "    }\n",
       "</style>\n",
       "<table border=\"1\" class=\"dataframe\">\n",
       "  <thead>\n",
       "    <tr style=\"text-align: right;\">\n",
       "      <th></th>\n",
       "      <th>birthArea</th>\n",
       "      <th>birthDate</th>\n",
       "      <th>currentNationalTeamId</th>\n",
       "      <th>currentTeamId</th>\n",
       "      <th>firstName</th>\n",
       "      <th>foot</th>\n",
       "      <th>gender</th>\n",
       "      <th>height</th>\n",
       "      <th>lastName</th>\n",
       "      <th>middleName</th>\n",
       "      <th>passportArea</th>\n",
       "      <th>role</th>\n",
       "      <th>shortName</th>\n",
       "      <th>status</th>\n",
       "      <th>weight</th>\n",
       "      <th>wyId</th>\n",
       "    </tr>\n",
       "  </thead>\n",
       "  <tbody>\n",
       "    <tr>\n",
       "      <th>426</th>\n",
       "      <td>{'id': '380', 'name': 'Italy', 'alpha3code': '...</td>\n",
       "      <td>1988-02-25</td>\n",
       "      <td>null</td>\n",
       "      <td>3204.0</td>\n",
       "      <td>Giacomo</td>\n",
       "      <td>left</td>\n",
       "      <td>male</td>\n",
       "      <td>186</td>\n",
       "      <td>Poluzzi</td>\n",
       "      <td></td>\n",
       "      <td>{'id': '380', 'name': 'Italy', 'alpha3code': '...</td>\n",
       "      <td>{'code2': 'GK', 'code3': 'GKP', 'name': 'Goalk...</td>\n",
       "      <td>G. Poluzzi</td>\n",
       "      <td>active</td>\n",
       "      <td>84</td>\n",
       "      <td>24725</td>\n",
       "    </tr>\n",
       "  </tbody>\n",
       "</table>\n",
       "</div>"
      ],
      "text/plain": [
       "                                             birthArea   birthDate  \\\n",
       "426  {'id': '380', 'name': 'Italy', 'alpha3code': '...  1988-02-25   \n",
       "\n",
       "    currentNationalTeamId  currentTeamId firstName  foot gender  height  \\\n",
       "426                  null         3204.0   Giacomo  left   male     186   \n",
       "\n",
       "    lastName middleName                                       passportArea  \\\n",
       "426  Poluzzi             {'id': '380', 'name': 'Italy', 'alpha3code': '...   \n",
       "\n",
       "                                                  role   shortName  status  \\\n",
       "426  {'code2': 'GK', 'code3': 'GKP', 'name': 'Goalk...  G. Poluzzi  active   \n",
       "\n",
       "     weight   wyId  \n",
       "426      84  24725  "
      ]
     },
     "execution_count": 105,
     "metadata": {},
     "output_type": "execute_result"
    }
   ],
   "source": [
    "player[player.wyId==24725]"
   ]
  },
  {
   "cell_type": "code",
   "execution_count": null,
   "metadata": {},
   "outputs": [],
   "source": []
  }
 ],
 "metadata": {
  "kernelspec": {
   "display_name": "Python 3",
   "language": "python",
   "name": "python3"
  },
  "language_info": {
   "codemirror_mode": {
    "name": "ipython",
    "version": 3
   },
   "file_extension": ".py",
   "mimetype": "text/x-python",
   "name": "python",
   "nbconvert_exporter": "python",
   "pygments_lexer": "ipython3",
   "version": "3.6.0"
  }
 },
 "nbformat": 4,
 "nbformat_minor": 2
}
