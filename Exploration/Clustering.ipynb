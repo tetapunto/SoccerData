{
 "cells": [
  {
   "cell_type": "code",
   "execution_count": 1,
   "metadata": {},
   "outputs": [],
   "source": [
    "import pandas as pd\n",
    "import numpy as np\n",
    "import matplotlib.pyplot as plt\n",
    "import seaborn as sns\n",
    "\n",
    "\n",
    "input_folder = 'C:/Users/Davide/workspace/SoccerData/Input/'\n",
    "output_folder = 'C:/Users/Davide/workspace/SoccerData/Output/'\n",
    "\n",
    "sns.set_style(\"white\")\n",
    "\n",
    "%matplotlib inline"
   ]
  },
  {
   "cell_type": "code",
   "execution_count": 2,
   "metadata": {},
   "outputs": [],
   "source": [
    "df = pd.read_csv(input_folder + 'dataset.csv', index_col=0)\n",
    "player = pd.read_json(input_folder+ 'players.json')\n",
    "player.role = [i['code2'] for i in player.role]\n",
    "\n",
    "df = df.merge(player[['wyId', 'lastName','role']], left_on= 'playerId',right_on= 'wyId' )"
   ]
  },
  {
   "cell_type": "code",
   "execution_count": 3,
   "metadata": {},
   "outputs": [
    {
     "data": {
      "text/plain": [
       "array(['MD', 'DF', 'FW', 'GK'], dtype=object)"
      ]
     },
     "execution_count": 3,
     "metadata": {},
     "output_type": "execute_result"
    }
   ],
   "source": [
    "df.role.unique()"
   ]
  },
  {
   "cell_type": "code",
   "execution_count": 4,
   "metadata": {},
   "outputs": [
    {
     "data": {
      "text/html": [
       "<div>\n",
       "<style scoped>\n",
       "    .dataframe tbody tr th:only-of-type {\n",
       "        vertical-align: middle;\n",
       "    }\n",
       "\n",
       "    .dataframe tbody tr th {\n",
       "        vertical-align: top;\n",
       "    }\n",
       "\n",
       "    .dataframe thead th {\n",
       "        text-align: right;\n",
       "    }\n",
       "</style>\n",
       "<table border=\"1\" class=\"dataframe\">\n",
       "  <thead>\n",
       "    <tr style=\"text-align: right;\">\n",
       "      <th></th>\n",
       "      <th>playerId</th>\n",
       "      <th>foul_pct_WRT_x</th>\n",
       "      <th>matchId</th>\n",
       "      <th>matchPeriod</th>\n",
       "      <th>accurate_pass_pct_WRP</th>\n",
       "      <th>accurate_shot_pct_WRP</th>\n",
       "      <th>duel_pct_WRT</th>\n",
       "      <th>fk_corner_pct_WRT</th>\n",
       "      <th>fk_cross_pct_WRT</th>\n",
       "      <th>fk_shot_pct_WRT</th>\n",
       "      <th>...</th>\n",
       "      <th>standard_deviation</th>\n",
       "      <th>height</th>\n",
       "      <th>weight</th>\n",
       "      <th>tempo_medio_tra_eventi</th>\n",
       "      <th>ambidestro</th>\n",
       "      <th>angle_mean</th>\n",
       "      <th>angle_std</th>\n",
       "      <th>wyId</th>\n",
       "      <th>lastName</th>\n",
       "      <th>role</th>\n",
       "    </tr>\n",
       "  </thead>\n",
       "  <tbody>\n",
       "    <tr>\n",
       "      <th>0</th>\n",
       "      <td>114</td>\n",
       "      <td>0.333333</td>\n",
       "      <td>2575959</td>\n",
       "      <td>1H</td>\n",
       "      <td>0.404762</td>\n",
       "      <td>NaN</td>\n",
       "      <td>0.120968</td>\n",
       "      <td>NaN</td>\n",
       "      <td>NaN</td>\n",
       "      <td>NaN</td>\n",
       "      <td>...</td>\n",
       "      <td>30.670747</td>\n",
       "      <td>186.0</td>\n",
       "      <td>78.0</td>\n",
       "      <td>59.420901</td>\n",
       "      <td>0.769231</td>\n",
       "      <td>3.311297</td>\n",
       "      <td>1.768162</td>\n",
       "      <td>114</td>\n",
       "      <td>Strootman</td>\n",
       "      <td>MD</td>\n",
       "    </tr>\n",
       "    <tr>\n",
       "      <th>1</th>\n",
       "      <td>114</td>\n",
       "      <td>0.142857</td>\n",
       "      <td>2575959</td>\n",
       "      <td>2H</td>\n",
       "      <td>0.275862</td>\n",
       "      <td>NaN</td>\n",
       "      <td>0.121739</td>\n",
       "      <td>NaN</td>\n",
       "      <td>NaN</td>\n",
       "      <td>NaN</td>\n",
       "      <td>...</td>\n",
       "      <td>33.559639</td>\n",
       "      <td>186.0</td>\n",
       "      <td>78.0</td>\n",
       "      <td>95.261190</td>\n",
       "      <td>0.769231</td>\n",
       "      <td>2.872542</td>\n",
       "      <td>1.789314</td>\n",
       "      <td>114</td>\n",
       "      <td>Strootman</td>\n",
       "      <td>MD</td>\n",
       "    </tr>\n",
       "    <tr>\n",
       "      <th>2</th>\n",
       "      <td>114</td>\n",
       "      <td>0.200000</td>\n",
       "      <td>2575976</td>\n",
       "      <td>2H</td>\n",
       "      <td>0.555556</td>\n",
       "      <td>NaN</td>\n",
       "      <td>0.104167</td>\n",
       "      <td>NaN</td>\n",
       "      <td>NaN</td>\n",
       "      <td>NaN</td>\n",
       "      <td>...</td>\n",
       "      <td>23.083842</td>\n",
       "      <td>186.0</td>\n",
       "      <td>78.0</td>\n",
       "      <td>52.515203</td>\n",
       "      <td>0.769231</td>\n",
       "      <td>2.782162</td>\n",
       "      <td>2.002138</td>\n",
       "      <td>114</td>\n",
       "      <td>Strootman</td>\n",
       "      <td>MD</td>\n",
       "    </tr>\n",
       "    <tr>\n",
       "      <th>3</th>\n",
       "      <td>114</td>\n",
       "      <td>0.400000</td>\n",
       "      <td>2575987</td>\n",
       "      <td>1H</td>\n",
       "      <td>0.272727</td>\n",
       "      <td>0.030303</td>\n",
       "      <td>0.101449</td>\n",
       "      <td>NaN</td>\n",
       "      <td>NaN</td>\n",
       "      <td>NaN</td>\n",
       "      <td>...</td>\n",
       "      <td>27.303354</td>\n",
       "      <td>186.0</td>\n",
       "      <td>78.0</td>\n",
       "      <td>75.670909</td>\n",
       "      <td>0.769231</td>\n",
       "      <td>3.362374</td>\n",
       "      <td>1.845300</td>\n",
       "      <td>114</td>\n",
       "      <td>Strootman</td>\n",
       "      <td>MD</td>\n",
       "    </tr>\n",
       "    <tr>\n",
       "      <th>4</th>\n",
       "      <td>114</td>\n",
       "      <td>0.400000</td>\n",
       "      <td>2575987</td>\n",
       "      <td>2H</td>\n",
       "      <td>0.410256</td>\n",
       "      <td>NaN</td>\n",
       "      <td>0.104000</td>\n",
       "      <td>NaN</td>\n",
       "      <td>NaN</td>\n",
       "      <td>NaN</td>\n",
       "      <td>...</td>\n",
       "      <td>22.923215</td>\n",
       "      <td>186.0</td>\n",
       "      <td>78.0</td>\n",
       "      <td>71.724029</td>\n",
       "      <td>0.769231</td>\n",
       "      <td>3.008122</td>\n",
       "      <td>1.985446</td>\n",
       "      <td>114</td>\n",
       "      <td>Strootman</td>\n",
       "      <td>MD</td>\n",
       "    </tr>\n",
       "  </tbody>\n",
       "</table>\n",
       "<p>5 rows × 34 columns</p>\n",
       "</div>"
      ],
      "text/plain": [
       "  playerId  foul_pct_WRT_x  matchId matchPeriod  accurate_pass_pct_WRP  \\\n",
       "0      114        0.333333  2575959          1H               0.404762   \n",
       "1      114        0.142857  2575959          2H               0.275862   \n",
       "2      114        0.200000  2575976          2H               0.555556   \n",
       "3      114        0.400000  2575987          1H               0.272727   \n",
       "4      114        0.400000  2575987          2H               0.410256   \n",
       "\n",
       "   accurate_shot_pct_WRP  duel_pct_WRT  fk_corner_pct_WRT  fk_cross_pct_WRT  \\\n",
       "0                    NaN      0.120968                NaN               NaN   \n",
       "1                    NaN      0.121739                NaN               NaN   \n",
       "2                    NaN      0.104167                NaN               NaN   \n",
       "3               0.030303      0.101449                NaN               NaN   \n",
       "4                    NaN      0.104000                NaN               NaN   \n",
       "\n",
       "   fk_shot_pct_WRT  ...   standard_deviation  height  weight  \\\n",
       "0              NaN  ...            30.670747   186.0    78.0   \n",
       "1              NaN  ...            33.559639   186.0    78.0   \n",
       "2              NaN  ...            23.083842   186.0    78.0   \n",
       "3              NaN  ...            27.303354   186.0    78.0   \n",
       "4              NaN  ...            22.923215   186.0    78.0   \n",
       "\n",
       "   tempo_medio_tra_eventi  ambidestro  angle_mean  angle_std  wyId   lastName  \\\n",
       "0               59.420901    0.769231    3.311297   1.768162   114  Strootman   \n",
       "1               95.261190    0.769231    2.872542   1.789314   114  Strootman   \n",
       "2               52.515203    0.769231    2.782162   2.002138   114  Strootman   \n",
       "3               75.670909    0.769231    3.362374   1.845300   114  Strootman   \n",
       "4               71.724029    0.769231    3.008122   1.985446   114  Strootman   \n",
       "\n",
       "   role  \n",
       "0    MD  \n",
       "1    MD  \n",
       "2    MD  \n",
       "3    MD  \n",
       "4    MD  \n",
       "\n",
       "[5 rows x 34 columns]"
      ]
     },
     "execution_count": 4,
     "metadata": {},
     "output_type": "execute_result"
    }
   ],
   "source": [
    "df.head()"
   ]
  },
  {
   "cell_type": "code",
   "execution_count": 65,
   "metadata": {},
   "outputs": [],
   "source": [
    "# for col in df.columns:\n",
    "#     if col not in ['playerId', 'matchId','matchPeriod','lastName','wyId','role']:\n",
    "#         plt.figure(figsize=(12, 5))\n",
    "#         plt.title(col, fontsize = 15)\n",
    "#         plt.hist(df[col].fillna(-1).values, normed=True)\n",
    "#         plt.grid()"
   ]
  },
  {
   "cell_type": "code",
   "execution_count": 66,
   "metadata": {},
   "outputs": [],
   "source": [
    "from sklearn.manifold import TSNE\n",
    "from sklearn.preprocessing import MinMaxScaler\n",
    "\n",
    "x = df[df.role =='DF'].drop(['playerId', 'matchId','matchPeriod','lastName','wyId','role'],1)\n",
    "x.angle_mean.fillna(x.angle_mean.mean(), inplace=True)\n",
    "x.angle_std.fillna(0, inplace=True)\n",
    "x.height.fillna(x.height.mean(), inplace=True)\n",
    "x.weight.fillna(x.weight.mean(), inplace=True)\n",
    "x.ambidestro.fillna(x.ambidestro.mean(), inplace=True)\n",
    "x = x.fillna(0)\n",
    "\n",
    "\n",
    "# scaler = MinMaxScaler()\n",
    "# Xsc = scaler.fit_transform(x[['standard_deviation',\n",
    "#                              'angle_mean', 'angle_std', 'height', 'weight', 'yellow_card',\n",
    "#                              'assist', 'tempo_medio_tra_eventi','posizione_media_x', 'posizione_media_y']])\n",
    "\n",
    "# X = np.hstack((Xsc, x.drop(['posizione_media_x', 'posizione_media_y', 'standard_deviation',\n",
    "#                              'angle_mean', 'angle_std', 'height', 'weight', 'yellow_card',\n",
    "#                              'assist', 'tempo_medio_tra_eventi'], axis=1)))\n",
    "\n",
    "# X_embedded = TSNE(n_components=2, learning_rate=20).fit_transform(X)"
   ]
  },
  {
   "cell_type": "code",
   "execution_count": 67,
   "metadata": {},
   "outputs": [],
   "source": [
    "# plt.figure(figsize=(10,10))\n",
    "# plt.scatter(X_embedded[:,0],X_embedded[:,1])"
   ]
  },
  {
   "cell_type": "code",
   "execution_count": 68,
   "metadata": {},
   "outputs": [],
   "source": [
    "example = [21001.0, 248950.0, 20495.0,\n",
    "        70084.0, 25849.0, 135903.0,\n",
    "       20459.0, 3300.0, 3431.0,\n",
    "        130.0, 288663.0, 263432.0,\n",
    "        20461.0, 92966.0, 22883.0,\n",
    "        37732.0, 20438.0, 625.0,\n",
    "        40726.0, 7965.0, 14903,\n",
    "       20443, 3543, 21315,\n",
    "       285109, 3318, 20879, 265865,\n",
    "       21171, 114, 286223,\n",
    "       20845, 22566, 20935,\n",
    "       116269, 190167,\n",
    "       3484, 21025, 21169,\n",
    "       213948, 21123, 15524,\n",
    "       3313, 14812, 447804,\n",
    "       11063, 21077, 105334, 21385,\n",
    "       89186, 20479, 122,\n",
    "       206314, 3323,\n",
    "       14943, 8327, 22933]"
   ]
  },
  {
   "cell_type": "markdown",
   "metadata": {},
   "source": [
    "# Best feature Search "
   ]
  },
  {
   "cell_type": "code",
   "execution_count": 5,
   "metadata": {},
   "outputs": [],
   "source": [
    "prole = pd.read_csv(input_folder + 'players_with_wyrole.csv')\n",
    "\n",
    "from itertools import product\n",
    "\n",
    "def adjust(x):\n",
    "    x =x.drop(['playerId', 'matchId','matchPeriod','lastName','wyId','role'],1)\n",
    "    x.angle_mean.fillna(x.angle_mean.mean(), inplace=True)\n",
    "    x.angle_std.fillna(0, inplace=True)\n",
    "    x.height.fillna(x.height.mean(), inplace=True)\n",
    "    x.weight.fillna(x.weight.mean(), inplace=True)\n",
    "    x.ambidestro.fillna(x.ambidestro.mean(), inplace=True)\n",
    "    x = x.fillna(0)\n",
    "    return x"
   ]
  },
  {
   "cell_type": "code",
   "execution_count": 6,
   "metadata": {},
   "outputs": [],
   "source": [
    "from numba import guvectorize, jit\n",
    "\n",
    "@jit([\"float64(float64[:],float64[:])\"], nopython=True)\n",
    "def cosine(a,b):\n",
    "    return np.dot(a,b)/(np.linalg.norm(a)*np.linalg.norm(b))\n",
    "    \n",
    "\n",
    "\n",
    "@jit([\"float64(float64[:],float64[:])\"], nopython=True)\n",
    "def euclidean(a,b):\n",
    "    return np.linalg.norm(a-b)"
   ]
  },
  {
   "cell_type": "code",
   "execution_count": 7,
   "metadata": {},
   "outputs": [],
   "source": [
    "@jit([\"int8[:](float64[:],float64[:], float64,float64[:],float64[:])\"])\n",
    "def best_features(x1, x2, init_score,list_name, drop_ix= np.array([])):\n",
    "    best_score = init_score\n",
    "    best_ix = 0\n",
    "    ix =0\n",
    "    name_dropped = ''\n",
    "    for ix in range(len(x1)):\n",
    "        y1,y2 = np.delete(x1, ix),np.delete(x2, ix)\n",
    "        score = cosine(y1,y2)\n",
    "        if score > best_score:\n",
    "            best_ix = ix\n",
    "            best_score = score\n",
    "            name_dropped = list_name[ix]\n",
    "    if best_score > init_score and len(drop_ix)<10:\n",
    "        list_name.remove(name_dropped)\n",
    "        drop_ix = np.append(drop_ix, name_dropped)\n",
    "        return best_features(np.delete(x1, best_ix),np.delete(x2, best_ix), best_score,list_name,drop_ix)\n",
    "    else:\n",
    "        return drop_ix"
   ]
  },
  {
   "cell_type": "code",
   "execution_count": 49,
   "metadata": {},
   "outputs": [],
   "source": [
    "diocane = []\n",
    "\n",
    "biglia = adjust(df[df.playerId ==37732]).values\n",
    "veron = adjust(df[df.playerId ==625]).values\n",
    "\n",
    "for i,j in product(biglia,veron):\n",
    "    ll =['foul_pct_WRT_x', 'accurate_pass_pct_WRP', 'accurate_shot_pct_WRP',\n",
    "           'duel_pct_WRT', 'fk_corner_pct_WRT', 'fk_cross_pct_WRT',\n",
    "       'fk_shot_pct_WRT', 'foul_pct_WRT_y', 'interception_pct_WRT',\n",
    "       'key_pass_pct_WRT', 'offside_pct_WRT', 'pass_cross_pct_WRT',\n",
    "       'pass_high_pct_WRT', 'pass_simple_pct_WRT', 'pass_smart_pct_WRT',\n",
    "       'shot_pct_WRT', 'assist', 'gol', 'yellow_card', 'posizione_media_x',\n",
    "       'posizione_media_y', 'standard_deviation', 'height', 'weight',\n",
    "       'tempo_medio_tra_eventi', 'ambidestro', 'angle_mean', 'angle_std']\n",
    "    diocane.append(best_features(i,j, cosine(i,j),ll))"
   ]
  },
  {
   "cell_type": "code",
   "execution_count": 50,
   "metadata": {},
   "outputs": [],
   "source": [
    "DIO = pd.DataFrame(diocane)\n",
    "da_dropp = pd.Series(DIO.values.ravel()).value_counts()"
   ]
  },
  {
   "cell_type": "code",
   "execution_count": 51,
   "metadata": {},
   "outputs": [],
   "source": [
    "biglia = adjust(df[df.playerId ==37732]).values\n",
    "allan = adjust(df[df.playerId ==40726]).values\n",
    "\n",
    "e_la_madonna = []\n",
    "\n",
    "\n",
    "for i,j in product(biglia,allan):\n",
    "    ll =['foul_pct_WRT_x', 'accurate_pass_pct_WRP', 'accurate_shot_pct_WRP',\n",
    "           'duel_pct_WRT', 'fk_corner_pct_WRT', 'fk_cross_pct_WRT',\n",
    "       'fk_shot_pct_WRT', 'foul_pct_WRT_y', 'interception_pct_WRT',\n",
    "       'key_pass_pct_WRT', 'offside_pct_WRT', 'pass_cross_pct_WRT',\n",
    "       'pass_high_pct_WRT', 'pass_simple_pct_WRT', 'pass_smart_pct_WRT',\n",
    "       'shot_pct_WRT', 'assist', 'gol', 'yellow_card', 'posizione_media_x',\n",
    "       'posizione_media_y', 'standard_deviation', 'height', 'weight',\n",
    "       'tempo_medio_tra_eventi', 'ambidestro', 'angle_mean', 'angle_std']\n",
    "    e_la_madonna.append(best_features(i,j, cosine(i,j),ll))"
   ]
  },
  {
   "cell_type": "code",
   "execution_count": 52,
   "metadata": {},
   "outputs": [],
   "source": [
    "LAMADONNA = pd.DataFrame(e_la_madonna)\n",
    "da_tene = pd.Series(LAMADONNA.values.ravel()).value_counts()\n"
   ]
  },
  {
   "cell_type": "code",
   "execution_count": 53,
   "metadata": {},
   "outputs": [
    {
     "data": {
      "text/plain": [
       "posizione_media_y         3104\n",
       "weight                    3100\n",
       "tempo_medio_tra_eventi    3093\n",
       "posizione_media_x         3075\n",
       "standard_deviation        3061\n",
       "angle_mean                2605\n",
       "foul_pct_WRT_x            1788\n",
       "angle_std                 1724\n",
       "accurate_pass_pct_WRP     1652\n",
       "foul_pct_WRT_y            1649\n",
       "interception_pct_WRT      1299\n",
       "pass_high_pct_WRT         1095\n",
       "shot_pct_WRT               953\n",
       "yellow_card                757\n",
       "pass_smart_pct_WRT         636\n",
       "key_pass_pct_WRT           354\n",
       "pass_simple_pct_WRT        270\n",
       "fk_cross_pct_WRT           244\n",
       "pass_cross_pct_WRT         242\n",
       "assist                     139\n",
       "fk_corner_pct_WRT          121\n",
       "duel_pct_WRT               111\n",
       "ambidestro                  25\n",
       "height                      11\n",
       "gol                          2\n",
       "dtype: int64"
      ]
     },
     "execution_count": 53,
     "metadata": {},
     "output_type": "execute_result"
    }
   ],
   "source": [
    "da_dropp"
   ]
  },
  {
   "cell_type": "code",
   "execution_count": 54,
   "metadata": {},
   "outputs": [
    {
     "data": {
      "text/plain": [
       "posizione_media_y         3567\n",
       "posizione_media_x         3544\n",
       "tempo_medio_tra_eventi    3544\n",
       "weight                    3542\n",
       "standard_deviation        3485\n",
       "angle_mean                3053\n",
       "foul_pct_WRT_x            1791\n",
       "foul_pct_WRT_y            1617\n",
       "accurate_pass_pct_WRP     1604\n",
       "angle_std                 1581\n",
       "pass_smart_pct_WRT        1515\n",
       "yellow_card               1498\n",
       "interception_pct_WRT      1055\n",
       "shot_pct_WRT               980\n",
       "pass_cross_pct_WRT         744\n",
       "pass_high_pct_WRT          723\n",
       "key_pass_pct_WRT           610\n",
       "fk_cross_pct_WRT           280\n",
       "duel_pct_WRT               274\n",
       "fk_corner_pct_WRT          238\n",
       "pass_simple_pct_WRT        215\n",
       "assist                     178\n",
       "gol                         32\n",
       "height                      30\n",
       "dtype: int64"
      ]
     },
     "execution_count": 54,
     "metadata": {},
     "output_type": "execute_result"
    }
   ],
   "source": [
    "da_tene"
   ]
  },
  {
   "cell_type": "code",
   "execution_count": 55,
   "metadata": {},
   "outputs": [
    {
     "data": {
      "text/plain": [
       "array(['ambidestro'], dtype=object)"
      ]
     },
     "execution_count": 55,
     "metadata": {},
     "output_type": "execute_result"
    }
   ],
   "source": [
    "np.setdiff1d(da_dropp.index,da_tene.index)"
   ]
  },
  {
   "cell_type": "code",
   "execution_count": null,
   "metadata": {},
   "outputs": [],
   "source": []
  }
 ],
 "metadata": {
  "kernelspec": {
   "display_name": "Python 3",
   "language": "python",
   "name": "python3"
  },
  "language_info": {
   "codemirror_mode": {
    "name": "ipython",
    "version": 3
   },
   "file_extension": ".py",
   "mimetype": "text/x-python",
   "name": "python",
   "nbconvert_exporter": "python",
   "pygments_lexer": "ipython3",
   "version": "3.6.0"
  }
 },
 "nbformat": 4,
 "nbformat_minor": 2
}
