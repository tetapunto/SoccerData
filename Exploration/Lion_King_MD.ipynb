{
 "cells": [
  {
   "cell_type": "code",
   "execution_count": 212,
   "metadata": {
    "collapsed": true
   },
   "outputs": [],
   "source": [
    "import pandas as pd\n",
    "import numpy as np\n",
    "from sklearn.cluster import KMeans\n",
    "from sklearn.decomposition import PCA, KernelPCA\n",
    "from sklearn.preprocessing import MinMaxScaler\n",
    "\n",
    "input_folder = 'C:/Users/Davide/workspace/SoccerData/Input/'\n",
    "output_folder = 'C:/Users/Davide/workspace/SoccerData/Output/'"
   ]
  },
  {
   "cell_type": "code",
   "execution_count": 213,
   "metadata": {
    "collapsed": true
   },
   "outputs": [],
   "source": [
    "df = pd.read_csv(input_folder + 'dataset.csv', index_col=0)\n",
    "players = pd.read_json(input_folder + 'players.json')"
   ]
  },
  {
   "cell_type": "code",
   "execution_count": 214,
   "metadata": {},
   "outputs": [],
   "source": [
    "players.role = [i['code2'] for i in players.role]\n",
    "players.loc[players[players.wyId.isin(wyId[15:42])].index,'role']= 'MD'\n",
    "df = df.merge(players[['role', 'wyId']], left_on='playerId', right_on='wyId', how='outer')"
   ]
  },
  {
   "cell_type": "code",
   "execution_count": 215,
   "metadata": {},
   "outputs": [],
   "source": [
    "df.angle_mean.fillna(df.angle_mean.mean(), inplace=True)\n",
    "df.angle_std.fillna(0, inplace=True)\n",
    "df.height.fillna(df.height.mean(), inplace=True)\n",
    "df.weight.fillna(df.weight.mean(), inplace=True)\n",
    "df.ambidestro.fillna(df.ambidestro.mean(), inplace=True)\n",
    "df = df.fillna(0)\n",
    "df = df[df.role=='MD']\n",
    "df = df.drop(['matchPeriod', 'matchId', 'role', 'wyId' ], axis=1)\n"
   ]
  },
  {
   "cell_type": "code",
   "execution_count": 216,
   "metadata": {},
   "outputs": [],
   "source": [
    "scaler = MinMaxScaler()\n",
    "cols = ['standard_deviation', 'posizione_media_x', 'posizione_media_y',\n",
    "        'angle_mean', 'angle_std', 'height', 'weight', 'yellow_card',\n",
    "        'tempo_medio_tra_eventi', 'gol', 'assist', 'total_distance']\n",
    "df_sc = scaler.fit_transform(df[cols])\n",
    "df = pd.concat((pd.DataFrame(df_sc, columns=cols, index=df.index), \n",
    "                 df.drop(cols, axis=1)\n",
    "                 ), axis=1)"
   ]
  },
  {
   "cell_type": "code",
   "execution_count": 217,
   "metadata": {},
   "outputs": [],
   "source": [
    "wyId = [21001.0, 248950.0, 20495.0,\n",
    "        70084.0, 25849.0, 135903.0,\n",
    "       20459.0, 3300.0, 3431.0,\n",
    "        130.0, 288663.0, 263432.0,\n",
    "        20461.0, 92966.0, 22883.0,\n",
    "        37732.0, 20438.0, 625.0,\n",
    "        40726.0, 7965.0, 14903,\n",
    "       20443, 3543, 21315,\n",
    "       285109, 3318, 20879, 265865,\n",
    "       21171, 114, 286223,\n",
    "       20845, 22566, 20935,\n",
    "       116269, 190167,\n",
    "       3484, 21025, 21169,\n",
    "       213948, 21123, 15524,\n",
    "       3313, 14812, 447804,\n",
    "       11063, 21077, 105334, 21385,\n",
    "       89186, 20479, 122,\n",
    "       206314, 3323,\n",
    "       14943, 8327, 22933]\n",
    "\n",
    "#temp = df[df.playerId.isin(wyId)]\n",
    "#print temp.shape\n",
    "#temp.head()"
   ]
  },
  {
   "cell_type": "code",
   "execution_count": 218,
   "metadata": {},
   "outputs": [],
   "source": [
    "col = ['00', '01', '02', '03',\n",
    "       '04', '10', '11', '12', '13', '14', '20', '21', '22', '23', '24', '30',\n",
    "       '31', '32', '33', '34', '40', '41', '42', '43', '44']\n",
    "\n",
    "def dropout(row):\n",
    "    ix = row.values.argsort()[-3:][::-1]\n",
    "    row.iloc[[i for i in range(len(row)) if i not in ix]] =0\n",
    "    return row\n",
    "\n",
    "\n",
    "res = [dropout(i[col]) for n,i in df.drop('playerId',1).iterrows()]\n",
    "df[col] = pd.DataFrame(res, index= df.index)\n"
   ]
  },
  {
   "cell_type": "code",
   "execution_count": 219,
   "metadata": {},
   "outputs": [
    {
     "data": {
      "text/plain": [
       "[<matplotlib.lines.Line2D at 0x279efcf0898>]"
      ]
     },
     "execution_count": 219,
     "metadata": {},
     "output_type": "execute_result"
    },
    {
     "data": {
      "image/png": "[encoded data removed]",
      "text/plain": [
       "<matplotlib.figure.Figure at 0x2798522f710>"
      ]
     },
     "metadata": {},
     "output_type": "display_data"
    }
   ],
   "source": [
    "n = 48\n",
    "pca = PCA(n_components=n)\n",
    "pca.fit(df.drop('playerId', axis=1))\n",
    "\n",
    "import matplotlib.pyplot as plt\n",
    "%matplotlib inline\n",
    "plt.plot(np.arange(len(pca.explained_variance_ratio_)), pca.explained_variance_ratio_,'--o')"
   ]
  },
  {
   "cell_type": "code",
   "execution_count": 269,
   "metadata": {},
   "outputs": [
    {
     "data": {
      "text/plain": [
       "PCA(copy=True, iterated_power='auto', n_components=20, random_state=None,\n",
       "  svd_solver='auto', tol=0.0, whiten=False)"
      ]
     },
     "execution_count": 269,
     "metadata": {},
     "output_type": "execute_result"
    }
   ],
   "source": [
    "n = 20\n",
    "pca = PCA(n_components=n)\n",
    "pca.fit(df.drop('playerId', axis=1))"
   ]
  },
  {
   "cell_type": "code",
   "execution_count": 270,
   "metadata": {},
   "outputs": [
    {
     "name": "stdout",
     "output_type": "stream",
     "text": [
      "[0.16897959 0.09107845 0.07120506 0.06947835 0.05821254 0.055085\n",
      " 0.05158185 0.04662422 0.04348333 0.04147092 0.03570346 0.02845304\n",
      " 0.02689528 0.02591325 0.02162591 0.01684507 0.0122021  0.0116364\n",
      " 0.01023735 0.00790444]\n"
     ]
    },
    {
     "data": {
      "text/plain": [
       "[<matplotlib.lines.Line2D at 0x27986f2acf8>]"
      ]
     },
     "execution_count": 270,
     "metadata": {},
     "output_type": "execute_result"
    },
    {
     "data": {
      "image/png": "[encoded data removed]",
      "text/plain": [
       "<matplotlib.figure.Figure at 0x279875bbeb8>"
      ]
     },
     "metadata": {},
     "output_type": "display_data"
    }
   ],
   "source": [
    "print(pca.explained_variance_ratio_)\n",
    "\n",
    "import matplotlib.pyplot as plt\n",
    "%matplotlib inline\n",
    "plt.plot(np.arange(len(pca.explained_variance_ratio_)), pca.explained_variance_ratio_,'--o')"
   ]
  },
  {
   "cell_type": "code",
   "execution_count": 271,
   "metadata": {},
   "outputs": [
    {
     "data": {
      "text/plain": [
       "0.8946156331847832"
      ]
     },
     "execution_count": 271,
     "metadata": {},
     "output_type": "execute_result"
    }
   ],
   "source": [
    "sum(pca.explained_variance_ratio_)"
   ]
  },
  {
   "cell_type": "code",
   "execution_count": 272,
   "metadata": {},
   "outputs": [],
   "source": [
    "df1 = pd.DataFrame(pca.transform(df.drop('playerId', axis=1)), columns=['c_%d' % i for i in range(n)])\n",
    "df1['playerId'] = df.playerId.values"
   ]
  },
  {
   "cell_type": "code",
   "execution_count": 273,
   "metadata": {},
   "outputs": [],
   "source": [
    "# from sklearn.decomposition import KernelPCA\n",
    "\n",
    "# ica = KernelPCA(n_components = n, kernel= 'rbf')\n",
    "# ica.fit(df.drop('playerId', axis=1))\n",
    "\n",
    "# df1 = pd.DataFrame(ica.transform(df.drop('playerId', axis=1)), columns=['c_%d' % i for i in range(n)])\n",
    "# df1['playerId'] = df.playerId.values"
   ]
  },
  {
   "cell_type": "code",
   "execution_count": 274,
   "metadata": {},
   "outputs": [
    {
     "data": {
      "text/html": [
       "<div>\n",
       "<style scoped>\n",
       "    .dataframe tbody tr th:only-of-type {\n",
       "        vertical-align: middle;\n",
       "    }\n",
       "\n",
       "    .dataframe tbody tr th {\n",
       "        vertical-align: top;\n",
       "    }\n",
       "\n",
       "    .dataframe thead th {\n",
       "        text-align: right;\n",
       "    }\n",
       "</style>\n",
       "<table border=\"1\" class=\"dataframe\">\n",
       "  <thead>\n",
       "    <tr style=\"text-align: right;\">\n",
       "      <th></th>\n",
       "      <th>c_0</th>\n",
       "      <th>c_1</th>\n",
       "      <th>c_2</th>\n",
       "      <th>c_3</th>\n",
       "      <th>c_4</th>\n",
       "      <th>c_5</th>\n",
       "      <th>c_6</th>\n",
       "      <th>c_7</th>\n",
       "      <th>c_8</th>\n",
       "      <th>c_9</th>\n",
       "      <th>...</th>\n",
       "      <th>c_11</th>\n",
       "      <th>c_12</th>\n",
       "      <th>c_13</th>\n",
       "      <th>c_14</th>\n",
       "      <th>c_15</th>\n",
       "      <th>c_16</th>\n",
       "      <th>c_17</th>\n",
       "      <th>c_18</th>\n",
       "      <th>c_19</th>\n",
       "      <th>playerId</th>\n",
       "    </tr>\n",
       "  </thead>\n",
       "  <tbody>\n",
       "    <tr>\n",
       "      <th>0</th>\n",
       "      <td>-0.171700</td>\n",
       "      <td>-0.169741</td>\n",
       "      <td>-0.023049</td>\n",
       "      <td>-0.326039</td>\n",
       "      <td>0.175848</td>\n",
       "      <td>0.401790</td>\n",
       "      <td>-0.077790</td>\n",
       "      <td>0.076310</td>\n",
       "      <td>0.331491</td>\n",
       "      <td>0.032481</td>\n",
       "      <td>...</td>\n",
       "      <td>-0.122228</td>\n",
       "      <td>0.016936</td>\n",
       "      <td>0.034994</td>\n",
       "      <td>0.007318</td>\n",
       "      <td>-0.099096</td>\n",
       "      <td>-0.056937</td>\n",
       "      <td>0.130123</td>\n",
       "      <td>0.058745</td>\n",
       "      <td>-0.061863</td>\n",
       "      <td>114.0</td>\n",
       "    </tr>\n",
       "    <tr>\n",
       "      <th>1</th>\n",
       "      <td>-0.239179</td>\n",
       "      <td>-0.043898</td>\n",
       "      <td>0.024582</td>\n",
       "      <td>-0.201998</td>\n",
       "      <td>0.039211</td>\n",
       "      <td>0.090454</td>\n",
       "      <td>0.002100</td>\n",
       "      <td>0.155856</td>\n",
       "      <td>-0.240161</td>\n",
       "      <td>0.358288</td>\n",
       "      <td>...</td>\n",
       "      <td>-0.131786</td>\n",
       "      <td>0.044841</td>\n",
       "      <td>0.039974</td>\n",
       "      <td>-0.063894</td>\n",
       "      <td>-0.114683</td>\n",
       "      <td>-0.121959</td>\n",
       "      <td>0.089369</td>\n",
       "      <td>0.054084</td>\n",
       "      <td>-0.013184</td>\n",
       "      <td>114.0</td>\n",
       "    </tr>\n",
       "    <tr>\n",
       "      <th>2</th>\n",
       "      <td>-0.249823</td>\n",
       "      <td>-0.018839</td>\n",
       "      <td>0.236959</td>\n",
       "      <td>-0.121954</td>\n",
       "      <td>0.045951</td>\n",
       "      <td>0.037777</td>\n",
       "      <td>-0.019229</td>\n",
       "      <td>-0.091073</td>\n",
       "      <td>0.095962</td>\n",
       "      <td>0.405522</td>\n",
       "      <td>...</td>\n",
       "      <td>0.110466</td>\n",
       "      <td>0.048449</td>\n",
       "      <td>0.084946</td>\n",
       "      <td>-0.135006</td>\n",
       "      <td>0.041140</td>\n",
       "      <td>0.036800</td>\n",
       "      <td>-0.014792</td>\n",
       "      <td>0.075493</td>\n",
       "      <td>0.072212</td>\n",
       "      <td>114.0</td>\n",
       "    </tr>\n",
       "    <tr>\n",
       "      <th>3</th>\n",
       "      <td>-0.320626</td>\n",
       "      <td>-0.152829</td>\n",
       "      <td>0.103982</td>\n",
       "      <td>-0.199636</td>\n",
       "      <td>0.044008</td>\n",
       "      <td>0.018325</td>\n",
       "      <td>-0.143590</td>\n",
       "      <td>0.274898</td>\n",
       "      <td>0.297139</td>\n",
       "      <td>0.199594</td>\n",
       "      <td>...</td>\n",
       "      <td>-0.069366</td>\n",
       "      <td>0.028946</td>\n",
       "      <td>0.068557</td>\n",
       "      <td>0.029604</td>\n",
       "      <td>-0.098615</td>\n",
       "      <td>0.020195</td>\n",
       "      <td>0.022003</td>\n",
       "      <td>0.047420</td>\n",
       "      <td>-0.030373</td>\n",
       "      <td>114.0</td>\n",
       "    </tr>\n",
       "    <tr>\n",
       "      <th>4</th>\n",
       "      <td>-0.328567</td>\n",
       "      <td>-0.197848</td>\n",
       "      <td>0.165987</td>\n",
       "      <td>-0.210659</td>\n",
       "      <td>0.066307</td>\n",
       "      <td>0.006239</td>\n",
       "      <td>-0.124449</td>\n",
       "      <td>0.187722</td>\n",
       "      <td>0.297555</td>\n",
       "      <td>0.223860</td>\n",
       "      <td>...</td>\n",
       "      <td>-0.109291</td>\n",
       "      <td>0.006703</td>\n",
       "      <td>-0.018609</td>\n",
       "      <td>-0.013838</td>\n",
       "      <td>-0.102006</td>\n",
       "      <td>0.070823</td>\n",
       "      <td>-0.059288</td>\n",
       "      <td>0.033708</td>\n",
       "      <td>0.010940</td>\n",
       "      <td>114.0</td>\n",
       "    </tr>\n",
       "  </tbody>\n",
       "</table>\n",
       "<p>5 rows × 21 columns</p>\n",
       "</div>"
      ],
      "text/plain": [
       "        c_0       c_1       c_2       c_3       c_4       c_5       c_6  \\\n",
       "0 -0.171700 -0.169741 -0.023049 -0.326039  0.175848  0.401790 -0.077790   \n",
       "1 -0.239179 -0.043898  0.024582 -0.201998  0.039211  0.090454  0.002100   \n",
       "2 -0.249823 -0.018839  0.236959 -0.121954  0.045951  0.037777 -0.019229   \n",
       "3 -0.320626 -0.152829  0.103982 -0.199636  0.044008  0.018325 -0.143590   \n",
       "4 -0.328567 -0.197848  0.165987 -0.210659  0.066307  0.006239 -0.124449   \n",
       "\n",
       "        c_7       c_8       c_9    ...         c_11      c_12      c_13  \\\n",
       "0  0.076310  0.331491  0.032481    ...    -0.122228  0.016936  0.034994   \n",
       "1  0.155856 -0.240161  0.358288    ...    -0.131786  0.044841  0.039974   \n",
       "2 -0.091073  0.095962  0.405522    ...     0.110466  0.048449  0.084946   \n",
       "3  0.274898  0.297139  0.199594    ...    -0.069366  0.028946  0.068557   \n",
       "4  0.187722  0.297555  0.223860    ...    -0.109291  0.006703 -0.018609   \n",
       "\n",
       "       c_14      c_15      c_16      c_17      c_18      c_19  playerId  \n",
       "0  0.007318 -0.099096 -0.056937  0.130123  0.058745 -0.061863     114.0  \n",
       "1 -0.063894 -0.114683 -0.121959  0.089369  0.054084 -0.013184     114.0  \n",
       "2 -0.135006  0.041140  0.036800 -0.014792  0.075493  0.072212     114.0  \n",
       "3  0.029604 -0.098615  0.020195  0.022003  0.047420 -0.030373     114.0  \n",
       "4 -0.013838 -0.102006  0.070823 -0.059288  0.033708  0.010940     114.0  \n",
       "\n",
       "[5 rows x 21 columns]"
      ]
     },
     "execution_count": 274,
     "metadata": {},
     "output_type": "execute_result"
    }
   ],
   "source": [
    "df1.head()"
   ]
  },
  {
   "cell_type": "code",
   "execution_count": 275,
   "metadata": {},
   "outputs": [],
   "source": [
    "centr = np.array([df1[df1.playerId.isin(wyId[15:18])].drop('playerId', 1).mean().values,\n",
    "                 df1[df1.playerId.isin(wyId[18:21])].drop('playerId', 1).mean().values,\n",
    "                 df1[df1.playerId.isin(wyId[21:24])].drop('playerId', 1).mean().values,\n",
    "                 df1[df1.playerId.isin(wyId[24:28])].drop('playerId', 1).mean().values,\n",
    "                 df1[df1.playerId.isin(wyId[28:31])].drop('playerId', 1).mean().values,\n",
    "                 df1[df1.playerId.isin(wyId[31:34])].drop('playerId', 1).mean().values,\n",
    "                 df1[df1.playerId.isin(wyId[34:36])].drop('playerId', 1).mean().values,\n",
    "                 df1[df1.playerId.isin(wyId[36:39])].drop('playerId', 1).mean().values,\n",
    "                 df1[df1.playerId.isin(wyId[39:42])].drop('playerId', 1).mean().values])\n",
    "\n",
    "lab_str = ['CDM','BWM', 'DPM','BBM','INM','WDM','RNR','PMR','FAN']"
   ]
  },
  {
   "cell_type": "code",
   "execution_count": 276,
   "metadata": {},
   "outputs": [],
   "source": [
    "kmeans = KMeans(n_clusters=9, random_state=42).fit(df1.drop('playerId', axis=1))"
   ]
  },
  {
   "cell_type": "code",
   "execution_count": 277,
   "metadata": {},
   "outputs": [
    {
     "data": {
      "text/plain": [
       "array([4, 7, 2, ..., 6, 6, 6])"
      ]
     },
     "execution_count": 277,
     "metadata": {},
     "output_type": "execute_result"
    }
   ],
   "source": [
    "kmeans.labels_"
   ]
  },
  {
   "cell_type": "code",
   "execution_count": 278,
   "metadata": {},
   "outputs": [],
   "source": [
    "df1['target'] =[lab_str[i] for i in kmeans.labels_]"
   ]
  },
  {
   "cell_type": "code",
   "execution_count": 279,
   "metadata": {},
   "outputs": [
    {
     "data": {
      "text/plain": [
       "DPM    1667\n",
       "BWM    1414\n",
       "RNR    1043\n",
       "BBM     508\n",
       "PMR     505\n",
       "CDM     497\n",
       "INM     332\n",
       "FAN     289\n",
       "WDM     288\n",
       "Name: target, dtype: int64"
      ]
     },
     "execution_count": 279,
     "metadata": {},
     "output_type": "execute_result"
    }
   ],
   "source": [
    "df1.target.value_counts()"
   ]
  },
  {
   "cell_type": "code",
   "execution_count": 280,
   "metadata": {},
   "outputs": [
    {
     "name": "stdout",
     "output_type": "stream",
     "text": [
      "66    L. Biglia\n",
      "Name: shortName, dtype: object\n",
      "DPM    44\n",
      "BWM     3\n",
      "CDM     1\n",
      "INM     1\n",
      "PMR     1\n",
      "WDM     1\n",
      "Name: target, dtype: int64\n",
      "-------\n",
      "228    D. De Rossi\n",
      "Name: shortName, dtype: object\n",
      "DPM    43\n",
      "Name: target, dtype: int64\n",
      "-------\n",
      "10    M. de Roon\n",
      "Name: shortName, dtype: object\n",
      "DPM    60\n",
      "INM     1\n",
      "Name: target, dtype: int64\n",
      "-------\n",
      "133    Allan\n",
      "Name: shortName, dtype: object\n",
      "BWM    64\n",
      "INM     4\n",
      "CDM     1\n",
      "PMR     1\n",
      "Name: target, dtype: int64\n",
      "-------\n",
      "100    Lucas Leiva\n",
      "Name: shortName, dtype: object\n",
      "DPM    58\n",
      "PMR     6\n",
      "INM     6\n",
      "WDM     1\n",
      "Name: target, dtype: int64\n",
      "-------\n",
      "162    T. Rinc\\u00f3n\n",
      "Name: shortName, dtype: object\n",
      "DPM    59\n",
      "PMR     7\n",
      "INM     2\n",
      "RNR     2\n",
      "WDM     1\n",
      "Name: target, dtype: int64\n",
      "-------\n",
      "229    M. Pjani\\u0107\n",
      "Name: shortName, dtype: object\n",
      "CDM    21\n",
      "FAN    16\n",
      "WDM    13\n",
      "INM     4\n",
      "BWM     2\n",
      "PMR     2\n",
      "Name: target, dtype: int64\n",
      "-------\n",
      "104    Borja Valero\n",
      "Name: shortName, dtype: object\n",
      "BWM    53\n",
      "WDM     4\n",
      "DPM     3\n",
      "CDM     2\n",
      "INM     2\n",
      "PMR     2\n",
      "Name: target, dtype: int64\n",
      "-------\n",
      "336    Jorginho\n",
      "Name: shortName, dtype: object\n",
      "WDM    25\n",
      "BWM    23\n",
      "PMR    10\n",
      "INM     4\n",
      "DPM     3\n",
      "Name: target, dtype: int64\n",
      "-------\n",
      "404    F. Kessi\\u00e9\n",
      "Name: shortName, dtype: object\n",
      "DPM    43\n",
      "PMR    20\n",
      "INM     9\n",
      "BWM     1\n",
      "Name: target, dtype: int64\n",
      "-------\n",
      "34    S. Khedira\n",
      "Name: shortName, dtype: object\n",
      "BBM    48\n",
      "INM     1\n",
      "Name: target, dtype: int64\n",
      "-------\n",
      "295    R. Nainggolan\n",
      "Name: shortName, dtype: object\n",
      "BWM    29\n",
      "PMR    20\n",
      "INM     9\n",
      "DPM     1\n",
      "CDM     1\n",
      "RNR     1\n",
      "Name: target, dtype: int64\n",
      "-------\n",
      "52    S. Milinkovi\\u0107-Savi\\u0107\n",
      "Name: shortName, dtype: object\n",
      "BBM    62\n",
      "INM     5\n",
      "WDM     1\n",
      "Name: target, dtype: int64\n",
      "-------\n",
      "322    M. Ham\\u0161\\u00edk\n",
      "Name: shortName, dtype: object\n",
      "RNR    65\n",
      "INM     2\n",
      "BBM     1\n",
      "Name: target, dtype: int64\n",
      "-------\n",
      "1    K. Strootman\n",
      "Name: shortName, dtype: object\n",
      "DPM    48\n",
      "INM     4\n",
      "PMR     3\n",
      "BWM     1\n",
      "WDM     1\n",
      "Name: target, dtype: int64\n",
      "-------\n",
      "421    N. Barella\n",
      "Name: shortName, dtype: object\n",
      "PMR    19\n",
      "CDM    18\n",
      "DPM    13\n",
      "BWM     6\n",
      "WDM     5\n",
      "FAN     5\n",
      "INM     2\n",
      "Name: target, dtype: int64\n",
      "-------\n",
      "291    G. Bonaventura\n",
      "Name: shortName, dtype: object\n",
      "BBM    24\n",
      "RNR    20\n",
      "CDM     8\n",
      "WDM     6\n",
      "FAN     2\n",
      "PMR     2\n",
      "INM     1\n",
      "Name: target, dtype: int64\n",
      "-------\n",
      "60    A. Florenzi\n",
      "Name: shortName, dtype: object\n",
      "BWM    47\n",
      "WDM     5\n",
      "INM     4\n",
      "CDM     1\n",
      "PMR     1\n",
      "Name: target, dtype: int64\n",
      "-------\n",
      "300    R\\u00f4mulo\n",
      "Name: shortName, dtype: object\n",
      "BWM    17\n",
      "WDM    16\n",
      "CDM    15\n",
      "INM    11\n",
      "FAN     8\n",
      "PMR     5\n",
      "Name: target, dtype: int64\n",
      "-------\n",
      "116    D. Laxalt\n",
      "Name: shortName, dtype: object\n",
      "BWM    53\n",
      "INM     6\n",
      "PMR     5\n",
      "Name: target, dtype: int64\n",
      "-------\n",
      "454    L. Spinazzola\n",
      "Name: shortName, dtype: object\n",
      "RNR    33\n",
      "INM     1\n",
      "PMR     1\n",
      "Name: target, dtype: int64\n",
      "-------\n",
      "48    Luis Alberto\n",
      "Name: shortName, dtype: object\n",
      "CDM    30\n",
      "FAN    26\n",
      "BBM     5\n",
      "WDM     3\n",
      "PMR     1\n",
      "Name: target, dtype: int64\n",
      "-------\n",
      "311    R. Saponara\n",
      "Name: shortName, dtype: object\n",
      "PMR    12\n",
      "BWM     8\n",
      "CDM     5\n",
      "INM     2\n",
      "WDM     1\n",
      "Name: target, dtype: int64\n",
      "-------\n",
      "321    B. D\\u017eemaili\n",
      "Name: shortName, dtype: object\n",
      "DPM    10\n",
      "PMR     8\n",
      "RNR     7\n",
      "INM     3\n",
      "Name: target, dtype: int64\n",
      "-------\n",
      "192    R. de Paul\n",
      "Name: shortName, dtype: object\n",
      "CDM    18\n",
      "FAN    12\n",
      "BWM    11\n",
      "PMR     7\n",
      "INM     7\n",
      "WDM     7\n",
      "Name: target, dtype: int64\n",
      "-------\n",
      "318    S. Verdi\n",
      "Name: shortName, dtype: object\n",
      "CDM    30\n",
      "FAN    26\n",
      "BWM     4\n",
      "WDM     4\n",
      "PMR     2\n",
      "RNR     1\n",
      "Name: target, dtype: int64\n",
      "-------\n",
      "170    H. \\u00c7alhano\\u011flu\n",
      "Name: shortName, dtype: object\n",
      "CDM    20\n",
      "FAN    11\n",
      "INM     8\n",
      "RNR     7\n",
      "WDM     6\n",
      "PMR     2\n",
      "BBM     1\n",
      "Name: target, dtype: int64\n",
      "-------\n"
     ]
    }
   ],
   "source": [
    "def p(id):\n",
    "    print(players[players.wyId==id].shortName)\n",
    "    print(df1[df1.playerId==id].target.value_counts())\n",
    "    print('-------')\n",
    "    \n",
    "for id in wyId[15:42]:\n",
    "    p(id)\n"
   ]
  },
  {
   "cell_type": "code",
   "execution_count": 168,
   "metadata": {},
   "outputs": [],
   "source": [
    "from sklearn.manifold import TSNE\n",
    "\n",
    "x = df1.drop('playerId',1).values\n",
    "X_embedded = TSNE(n_components=2).fit_transform(x)"
   ]
  },
  {
   "cell_type": "code",
   "execution_count": 169,
   "metadata": {},
   "outputs": [
    {
     "data": {
      "image/png": "[encoded data removed]",
      "text/plain": [
       "<matplotlib.figure.Figure at 0x279812deb00>"
      ]
     },
     "metadata": {},
     "output_type": "display_data"
    }
   ],
   "source": [
    "import matplotlib.pyplot as plt\n",
    "%matplotlib inline\n",
    "\n",
    "fig = plt.figure(figsize=(10,10))\n",
    "plt.title('Midfielder Clusters', fontsize = 15)\n",
    "plt.scatter(X_embedded[:,0],X_embedded[:,1])\n",
    "\n",
    "ix = df1.reset_index()[df1.playerId.isin(wyId[15:18])].index.values\n",
    "plt.scatter(X_embedded[ix,0],X_embedded[ix,1], label = '1', alpha =0.5)\n",
    "\n",
    "\n",
    "ix = df1.reset_index()[df1.playerId.isin(wyId[18:21])].index.values\n",
    "plt.scatter(X_embedded[ix,0],X_embedded[ix,1], label = '2', alpha =0.5)\n",
    "\n",
    "\n",
    "ix = df1.reset_index()[df1.playerId.isin(wyId[21:21])].index.values\n",
    "plt.scatter(X_embedded[ix,0],X_embedded[ix,1], label = '3', alpha =0.5)\n",
    "\n",
    "\n",
    "ix = df1.reset_index()[df1.playerId.isin(wyId[24:28])].index.values\n",
    "plt.scatter(X_embedded[ix,0],X_embedded[ix,1], label = '4', alpha =0.5)\n",
    "\n",
    "\n",
    "ix = df1.reset_index()[df1.playerId.isin(wyId[28:31])].index.values\n",
    "plt.scatter(X_embedded[ix,0],X_embedded[ix,1], label = '5', alpha =0.5)\n",
    "\n",
    "\n",
    "ix = df1.reset_index()[df1.playerId.isin(wyId[31:34])].index.values\n",
    "plt.scatter(X_embedded[ix,0],X_embedded[ix,1], label = '6', alpha =0.5)\n",
    "\n",
    "ix = df1.reset_index()[df1.playerId.isin(wyId[34:36])].index.values\n",
    "plt.scatter(X_embedded[ix,0],X_embedded[ix,1], label = '7', alpha =0.5)\n",
    "\n",
    "ix = df1.reset_index()[df1.playerId.isin(wyId[36:39])].index.values\n",
    "plt.scatter(X_embedded[ix,0],X_embedded[ix,1], label = '8', alpha =0.5)\n",
    "\n",
    "\n",
    "ix = df1.reset_index()[df1.playerId.isin(wyId[39:42])].index.values\n",
    "plt.scatter(X_embedded[ix,0],X_embedded[ix,1], label = '9', alpha =0.5)\n",
    "\n",
    "\n",
    "plt.legend(fontsize = 10)\n",
    "plt.grid()"
   ]
  },
  {
   "cell_type": "code",
   "execution_count": 68,
   "metadata": {},
   "outputs": [],
   "source": [
    "# fig.savefig(output_folder + 'mid')"
   ]
  },
  {
   "cell_type": "code",
   "execution_count": 281,
   "metadata": {},
   "outputs": [
    {
     "data": {
      "text/plain": [
       "['C:/Users/Davide/workspace/SoccerData/Output/kmeans_mf']"
      ]
     },
     "execution_count": 281,
     "metadata": {},
     "output_type": "execute_result"
    }
   ],
   "source": [
    "from sklearn.externals import joblib\n",
    "\n",
    "joblib.dump(pca,output_folder + 'pca_mf')\n",
    "joblib.dump(kmeans,output_folder + 'kmeans_mf')"
   ]
  },
  {
   "cell_type": "code",
   "execution_count": null,
   "metadata": {},
   "outputs": [],
   "source": []
  }
 ],
 "metadata": {
  "kernelspec": {
   "display_name": "Python 3",
   "language": "python",
   "name": "python3"
  },
  "language_info": {
   "codemirror_mode": {
    "name": "ipython",
    "version": 3
   },
   "file_extension": ".py",
   "mimetype": "text/x-python",
   "name": "python",
   "nbconvert_exporter": "python",
   "pygments_lexer": "ipython3",
   "version": "3.6.0"
  }
 },
 "nbformat": 4,
 "nbformat_minor": 2
}
