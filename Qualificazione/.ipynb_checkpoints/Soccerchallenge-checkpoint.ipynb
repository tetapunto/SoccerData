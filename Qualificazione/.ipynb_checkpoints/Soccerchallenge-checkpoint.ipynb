{
 "cells": [
  {
   "cell_type": "code",
   "execution_count": 1,
   "metadata": {},
   "outputs": [],
   "source": [
    "import pandas as pd\n",
    "import numpy as np\n",
    "import re"
   ]
  },
  {
   "cell_type": "code",
   "execution_count": 51,
   "metadata": {
    "scrolled": true
   },
   "outputs": [],
   "source": [
    "matches = \\\n",
    "pd.read_json('https://raw.githubusercontent.com/mesosbrodleto/soccerDataChallenge/master/worldCup-final.json')\n",
    "\n",
    "players = \\\n",
    "pd.read_json('https://raw.githubusercontent.com/mesosbrodleto/soccerDataChallenge/master/players.json')"
   ]
  },
  {
   "cell_type": "code",
   "execution_count": 9,
   "metadata": {},
   "outputs": [
    {
     "name": "stdout",
     "output_type": "stream",
     "text": [
      "<class 'pandas.core.frame.DataFrame'>\n",
      "Int64Index: 1547 entries, 0 to 1546\n",
      "Data columns (total 12 columns):\n",
      "eventId         1547 non-null int64\n",
      "eventName       1547 non-null object\n",
      "eventSec        1547 non-null float64\n",
      "id              1547 non-null int64\n",
      "matchId         1547 non-null int64\n",
      "matchPeriod     1547 non-null object\n",
      "playerId        1547 non-null int64\n",
      "positions       1547 non-null object\n",
      "subEventId      1547 non-null object\n",
      "subEventName    1547 non-null object\n",
      "tags            1547 non-null object\n",
      "teamId          1547 non-null object\n",
      "dtypes: float64(1), int64(4), object(7)\n",
      "memory usage: 157.1+ KB\n"
     ]
    }
   ],
   "source": [
    "matches.info() # NON LO METTO NEL FILE"
   ]
  },
  {
   "cell_type": "code",
   "execution_count": 10,
   "metadata": {},
   "outputs": [
    {
     "data": {
      "text/html": [
       "<div>\n",
       "<style scoped>\n",
       "    .dataframe tbody tr th:only-of-type {\n",
       "        vertical-align: middle;\n",
       "    }\n",
       "\n",
       "    .dataframe tbody tr th {\n",
       "        vertical-align: top;\n",
       "    }\n",
       "\n",
       "    .dataframe thead th {\n",
       "        text-align: right;\n",
       "    }\n",
       "</style>\n",
       "<table border=\"1\" class=\"dataframe\">\n",
       "  <thead>\n",
       "    <tr style=\"text-align: right;\">\n",
       "      <th></th>\n",
       "      <th></th>\n",
       "      <th>n_elements</th>\n",
       "    </tr>\n",
       "    <tr>\n",
       "      <th>eventName</th>\n",
       "      <th>subEventName</th>\n",
       "      <th></th>\n",
       "    </tr>\n",
       "  </thead>\n",
       "  <tbody>\n",
       "    <tr>\n",
       "      <th rowspan=\"4\" valign=\"top\">Duel</th>\n",
       "      <th>Air duel</th>\n",
       "      <td>82</td>\n",
       "    </tr>\n",
       "    <tr>\n",
       "      <th>Ground attacking duel</th>\n",
       "      <td>125</td>\n",
       "    </tr>\n",
       "    <tr>\n",
       "      <th>Ground defending duel</th>\n",
       "      <td>125</td>\n",
       "    </tr>\n",
       "    <tr>\n",
       "      <th>Ground loose ball duel</th>\n",
       "      <td>58</td>\n",
       "    </tr>\n",
       "    <tr>\n",
       "      <th rowspan=\"2\" valign=\"top\">Foul</th>\n",
       "      <th>Foul</th>\n",
       "      <td>24</td>\n",
       "    </tr>\n",
       "    <tr>\n",
       "      <th>Hand foul</th>\n",
       "      <td>2</td>\n",
       "    </tr>\n",
       "    <tr>\n",
       "      <th rowspan=\"6\" valign=\"top\">Free Kick</th>\n",
       "      <th>Corner</th>\n",
       "      <td>8</td>\n",
       "    </tr>\n",
       "    <tr>\n",
       "      <th>Free Kick</th>\n",
       "      <td>20</td>\n",
       "    </tr>\n",
       "    <tr>\n",
       "      <th>Free kick cross</th>\n",
       "      <td>7</td>\n",
       "    </tr>\n",
       "    <tr>\n",
       "      <th>Goal kick</th>\n",
       "      <td>18</td>\n",
       "    </tr>\n",
       "    <tr>\n",
       "      <th>Penalty</th>\n",
       "      <td>1</td>\n",
       "    </tr>\n",
       "    <tr>\n",
       "      <th>Throw in</th>\n",
       "      <td>46</td>\n",
       "    </tr>\n",
       "    <tr>\n",
       "      <th>Goalkeeper leaving line</th>\n",
       "      <th>Goalkeeper leaving line</th>\n",
       "      <td>5</td>\n",
       "    </tr>\n",
       "    <tr>\n",
       "      <th rowspan=\"2\" valign=\"top\">Interruption</th>\n",
       "      <th>Ball out of the field</th>\n",
       "      <td>72</td>\n",
       "    </tr>\n",
       "    <tr>\n",
       "      <th>Whistle</th>\n",
       "      <td>4</td>\n",
       "    </tr>\n",
       "    <tr>\n",
       "      <th>Offside</th>\n",
       "      <th></th>\n",
       "      <td>2</td>\n",
       "    </tr>\n",
       "    <tr>\n",
       "      <th rowspan=\"3\" valign=\"top\">Others on the ball</th>\n",
       "      <th>Acceleration</th>\n",
       "      <td>25</td>\n",
       "    </tr>\n",
       "    <tr>\n",
       "      <th>Clearance</th>\n",
       "      <td>29</td>\n",
       "    </tr>\n",
       "    <tr>\n",
       "      <th>Touch</th>\n",
       "      <td>104</td>\n",
       "    </tr>\n",
       "    <tr>\n",
       "      <th rowspan=\"7\" valign=\"top\">Pass</th>\n",
       "      <th>Cross</th>\n",
       "      <td>27</td>\n",
       "    </tr>\n",
       "    <tr>\n",
       "      <th>Hand pass</th>\n",
       "      <td>7</td>\n",
       "    </tr>\n",
       "    <tr>\n",
       "      <th>Head pass</th>\n",
       "      <td>61</td>\n",
       "    </tr>\n",
       "    <tr>\n",
       "      <th>High pass</th>\n",
       "      <td>54</td>\n",
       "    </tr>\n",
       "    <tr>\n",
       "      <th>Launch</th>\n",
       "      <td>25</td>\n",
       "    </tr>\n",
       "    <tr>\n",
       "      <th>Simple pass</th>\n",
       "      <td>571</td>\n",
       "    </tr>\n",
       "    <tr>\n",
       "      <th>Smart pass</th>\n",
       "      <td>14</td>\n",
       "    </tr>\n",
       "    <tr>\n",
       "      <th rowspan=\"2\" valign=\"top\">Save attempt</th>\n",
       "      <th>Reflexes</th>\n",
       "      <td>6</td>\n",
       "    </tr>\n",
       "    <tr>\n",
       "      <th>Save attempt</th>\n",
       "      <td>4</td>\n",
       "    </tr>\n",
       "    <tr>\n",
       "      <th>Shot</th>\n",
       "      <th>Shot</th>\n",
       "      <td>21</td>\n",
       "    </tr>\n",
       "  </tbody>\n",
       "</table>\n",
       "</div>"
      ],
      "text/plain": [
       "                                                 n_elements\n",
       "eventName               subEventName                       \n",
       "Duel                    Air duel                         82\n",
       "                        Ground attacking duel           125\n",
       "                        Ground defending duel           125\n",
       "                        Ground loose ball duel           58\n",
       "Foul                    Foul                             24\n",
       "                        Hand foul                         2\n",
       "Free Kick               Corner                            8\n",
       "                        Free Kick                        20\n",
       "                        Free kick cross                   7\n",
       "                        Goal kick                        18\n",
       "                        Penalty                           1\n",
       "                        Throw in                         46\n",
       "Goalkeeper leaving line Goalkeeper leaving line           5\n",
       "Interruption            Ball out of the field            72\n",
       "                        Whistle                           4\n",
       "Offside                                                   2\n",
       "Others on the ball      Acceleration                     25\n",
       "                        Clearance                        29\n",
       "                        Touch                           104\n",
       "Pass                    Cross                            27\n",
       "                        Hand pass                         7\n",
       "                        Head pass                        61\n",
       "                        High pass                        54\n",
       "                        Launch                           25\n",
       "                        Simple pass                     571\n",
       "                        Smart pass                       14\n",
       "Save attempt            Reflexes                          6\n",
       "                        Save attempt                      4\n",
       "Shot                    Shot                             21"
      ]
     },
     "execution_count": 10,
     "metadata": {},
     "output_type": "execute_result"
    }
   ],
   "source": [
    "matches.groupby(['eventName', 'subEventName']).agg({'eventId': np.size}).rename(columns={'eventId': 'n_elements'})\n",
    "\n",
    "# NON LO METTO NEL FILE"
   ]
  },
  {
   "cell_type": "code",
   "execution_count": 11,
   "metadata": {},
   "outputs": [
    {
     "data": {
      "text/plain": [
       "Pass                       759\n",
       "Duel                       390\n",
       "Others on the ball         158\n",
       "Free Kick                  100\n",
       "Interruption                76\n",
       "Foul                        26\n",
       "Shot                        21\n",
       "Save attempt                10\n",
       "Goalkeeper leaving line      5\n",
       "Offside                      2\n",
       "Name: eventName, dtype: int64"
      ]
     },
     "execution_count": 11,
     "metadata": {},
     "output_type": "execute_result"
    }
   ],
   "source": [
    "matches.eventName.value_counts() # NON LO METTO NEL FILE"
   ]
  },
  {
   "cell_type": "markdown",
   "metadata": {},
   "source": [
    "ESERCIZIO:\n",
    "Calcolare la posizione media di ogni calciatore che abbia giocato almeno 45 minuti. Calcolare inoltre la distanza quadratica media di ogni giocatore rispetto alla sua posizione media. Calcolare, per ogni giocatore, il tempo medio che passa tra due eventi del giocatore (in secondi). "
   ]
  },
  {
   "cell_type": "code",
   "execution_count": 71,
   "metadata": {},
   "outputs": [],
   "source": [
    "# add 45 * 60 minutes for events in the second half\n",
    "matches.eventSec = matches.eventSec + matches.matchPeriod.apply(lambda s: 0 if s[0] == '1' else 45 * 60)\n",
    "no_players = [k for k, v in (matches.groupby('playerId').agg({'teamId': 'nunique'}).teamId < 2).to_dict().items() \n",
    "              if not v]\n",
    "matches.drop(no_players, inplace=True)"
   ]
  },
  {
   "cell_type": "code",
   "execution_count": 33,
   "metadata": {},
   "outputs": [],
   "source": [
    "players_45min = matches\\\n",
    ".groupby('playerId', as_index=False).agg({\"eventSec\": [np.max, np.min]})\\\n",
    ".assign(playing_time=lambda  x: (x[('eventSec', 'amax')] - x[('eventSec', 'amin')]) / 60)\\\n",
    ".loc[:, ['playerId', 'playing_time']]\n"
   ]
  },
  {
   "cell_type": "code",
   "execution_count": 34,
   "metadata": {},
   "outputs": [],
   "source": [
    "player_45min_ids = players_45min[players_45min.playing_time >= 45].playerId.values\n",
    "matches = matches.loc[matches.playerId.isin(player_45min_ids)]\n",
    "\n",
    "\n",
    "def extract_position(series_pos):\n",
    "    ys = np.array([d['y'] for line in series_pos.values for d in line])\n",
    "    xs = np.array([d['x'] for line in series_pos.values for d in line])\n",
    "    y_mean = ys.mean()\n",
    "    x_mean = xs.mean()\n",
    "    dist = np.power(ys - y_mean, 2) + np.power(xs - x_mean, 2)\n",
    "    return pd.DataFrame([[x_mean, y_mean, dist.sum() / len(series_pos)]],\n",
    "                       columns=['posizione_media_x', 'posizione_media_y', 'distanza_quadratica_media'])\n",
    "\n",
    "result1 = matches.groupby('playerId').positions.apply(extract_position)\n",
    "result1.index = result1.index.droplevel(1)"
   ]
  },
  {
   "cell_type": "code",
   "execution_count": 41,
   "metadata": {},
   "outputs": [],
   "source": [
    "def extract_time_delta(series_time):\n",
    "    return np.mean(series_time - series_time.shift(1))\n",
    "\n",
    "result2 = matches.groupby('playerId').eventSec.apply(extract_time_delta).rename('tempo_medio_tra_eventi')"
   ]
  },
  {
   "cell_type": "code",
   "execution_count": 52,
   "metadata": {},
   "outputs": [],
   "source": [
    "matches[['playerId', 'teamId']].drop_duplicates('playerId')\\\n",
    ".merge(players, how='left', on='playerId')\\\n",
    ".merge(pd.concat((result1, result2), axis=1).reset_index(), how='left', on='playerId')\\\n",
    ".rename(columns={'playerId': 'identificativo_calciatore',\n",
    "                 'name': 'nome_calciatore',\n",
    "                 'teamId': 'squadra_calciatore'})\\\n",
    ".loc[:, ['identificativo_calciatore', 'nome_calciatore', 'squadra_calciatore', 'posizione_media_x',\n",
    "         'posizione_media_y', 'distanza_quadratica_media', 'tempo_medio_tra_eventi']]\\\n",
    ".to_csv('problema_1.csv', index=False)\n",
    "     "
   ]
  },
  {
   "cell_type": "code",
   "execution_count": 45,
   "metadata": {},
   "outputs": [
    {
     "data": {
      "text/html": [
       "<div>\n",
       "<style scoped>\n",
       "    .dataframe tbody tr th:only-of-type {\n",
       "        vertical-align: middle;\n",
       "    }\n",
       "\n",
       "    .dataframe tbody tr th {\n",
       "        vertical-align: top;\n",
       "    }\n",
       "\n",
       "    .dataframe thead th {\n",
       "        text-align: right;\n",
       "    }\n",
       "</style>\n",
       "<table border=\"1\" class=\"dataframe\">\n",
       "  <thead>\n",
       "    <tr style=\"text-align: right;\">\n",
       "      <th></th>\n",
       "      <th>name</th>\n",
       "      <th>playerId</th>\n",
       "    </tr>\n",
       "  </thead>\n",
       "  <tbody>\n",
       "  </tbody>\n",
       "</table>\n",
       "</div>"
      ],
      "text/plain": [
       "Empty DataFrame\n",
       "Columns: [name, playerId]\n",
       "Index: []"
      ]
     },
     "execution_count": 45,
     "metadata": {},
     "output_type": "execute_result"
    }
   ],
   "source": [
    "players[players.playerId == 31528]"
   ]
  },
  {
   "cell_type": "markdown",
   "metadata": {},
   "source": [
    "# ======================================"
   ]
  },
  {
   "cell_type": "markdown",
   "metadata": {},
   "source": [
    "ESERCIZIO (a):\n",
    "Dividere il campo di gioco in una griglia 5x5 (ossia in 25 celle di uguale dimensione). Per ogni cella e per ogni squadra calcolare:\n",
    "i. Frequenza degli eventi effettuati (numero di eventi in quella cella sul totale degli eventi della squadra)\n",
    "ii. Frequenza di passaggi accurati effettuati (numero di passaggi accurati in quella cella sul totale dei passaggi accurati)\n",
    "iii. Frequenza di tiri effettuati \n",
    "iv. Frequenza di falli subiti "
   ]
  },
  {
   "cell_type": "code",
   "execution_count": 59,
   "metadata": {},
   "outputs": [],
   "source": [
    "def extract_positions(pos_series):\n",
    "    pos_list = pos_series.tolist()[0]\n",
    "    try:\n",
    "        y_end = pos_list[1]['y']\n",
    "        x_end = pos_list[1]['x']\n",
    "    except:\n",
    "        y_end = np.nan\n",
    "        x_end = np.nan\n",
    "    y_start = pos_list[0]['y']\n",
    "    x_start = pos_list[0]['x']\n",
    "    return pd.DataFrame([[x_start, y_start, x_end, y_end]], columns=['x_start', 'y_start', 'x_end', 'y_end'])\n",
    "\n",
    "positions = matches.groupby('id').positions.apply(extract_positions)\n",
    "positions.index = positions.index.droplevel(1)\n",
    "matches = matches.merge(positions.reset_index(), on='id')"
   ]
  },
  {
   "cell_type": "code",
   "execution_count": 64,
   "metadata": {},
   "outputs": [
    {
     "data": {
      "text/plain": [
       "20"
      ]
     },
     "execution_count": 64,
     "metadata": {},
     "output_type": "execute_result"
    }
   ],
   "source": [
    "round(21/ 5) * 5"
   ]
  },
  {
   "cell_type": "markdown",
   "metadata": {},
   "source": []
  }
 ],
 "metadata": {
  "kernelspec": {
   "display_name": "bigdiveconda",
   "language": "python",
   "name": "anaconda3-5.1.0"
  },
  "language_info": {
   "codemirror_mode": {
    "name": "ipython",
    "version": 3
   },
   "file_extension": ".py",
   "mimetype": "text/x-python",
   "name": "python",
   "nbconvert_exporter": "python",
   "pygments_lexer": "ipython3",
   "version": "3.6.4"
  }
 },
 "nbformat": 4,
 "nbformat_minor": 2
}
